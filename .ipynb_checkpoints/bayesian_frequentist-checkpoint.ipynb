{
 "metadata": {
  "name": "",
  "signature": "sha256:e46cd4336e670599eefc4f96cf2a9deb3aaa0512dfe2176a52fd1b9fcd5f41d9"
 },
 "nbformat": 3,
 "nbformat_minor": 0,
 "worksheets": [
  {
   "cells": [
    {
     "cell_type": "markdown",
     "metadata": {},
     "source": [
      "# Bayesian vs frequentist statistics\n",
      "\n",
      "Bayesian statistics differs from frequentist statistics in one main way: _frequentist statistics_ assumes there is a ground truth of the parameter in nature that we're trying to find -- such as the \"true\" mean LP burst frequency. This is fixed and all samples are independent, identically distributed (i.i.d.), and over a long enough time frame with enough samples we can approximate this true parameter. In short, it's an estimation of the \"model\" given the data and assumes *no prior* (we know nothing about the system before we start sampling).\n",
      "\n",
      "_Bayesian statistics_ assumes a prior -- indeed, it assumes a prior distribution. This prior can be agnostic if we don't know anything about the system, or it can be an informed prior -- for example, if we're looking at a mechanistic phenomenon and know some of the math behind it. Alternatively, a prior can be previously recorded samples, or a different experimental condition. We then use a re-sampling algorithm to create a _posterior distribution_ from our prior, given the data. In this way, Bayesian statistics is an estimate of the data given the model.\n"
     ]
    },
    {
     "cell_type": "code",
     "collapsed": false,
     "input": [
      "# Imports\n",
      "import numpy as np\n",
      "import matplotlib.pyplot as plt\n",
      "%matplotlib inline\n",
      "import pymc3 as pm\n",
      "import scipy.stats as stats"
     ],
     "language": "python",
     "metadata": {},
     "outputs": [],
     "prompt_number": 6
    },
    {
     "cell_type": "markdown",
     "metadata": {},
     "source": [
      "\n",
      "## Intuition for Bayesian approach\n",
      "\n",
      "* Problem: You hear your cell phone ringing. Where do you look?\n",
      "\n",
      "_Frequentist_: Imagining the rooms in your house, you walk to the one that sounded like the phone was there.\n",
      "\n",
      "_Bayesian_: You also consider where you've been recently and where you generally leave your phone (priors), and you use these combined with the ringing sound to decide which room to search.\n"
     ]
    },
    {
     "cell_type": "markdown",
     "metadata": {},
     "source": [
      "## Coin-flip example\n",
      "\n",
      "Imagine a coin that has a probability $p$ of coming up heads when flipped (and therefore a probability of $1-p$ for coming up tails; but we don't know $p$.\n",
      "\n",
      "After *14* flips you got *10* heads.\n",
      "\n",
      "Your task is to decide what is the probability your next two flips will be *heads*."
     ]
    },
    {
     "cell_type": "markdown",
     "metadata": {},
     "source": [
      "## Frequentist\n",
      "\n",
      "Let $p = 10/14$, so $p=0.714$.\n",
      "\n",
      "Two heads in a row is $0.714^2 = 0.51$, so a frequentist predicts there is a 51% chance of getting two heads in a row. This is the maximum likelihood estimate. $p$ is a value."
     ]
    },
    {
     "cell_type": "markdown",
     "metadata": {},
     "source": [
      "## Bayesian\n",
      "\n",
      "Importantly, to the Bayesian $p$ is a distribution, not a value. This will be immensely important later when we discuss interpretations. We want to know what is the probability of $p$ given the data.\n",
      "\n",
      "$P (p | data) = \\frac{P(data|p)P(p)}{P(data)}$\n",
      "\n",
      "We fill in the terms as follows: \n",
      "* $P(data|p) = (\\frac{10}{14}) p^{10} (1-p)^{14-10=4}$\n",
      "* $P(p|data) = p^{10} (1-p)^4 P(p)$\n",
      "\n",
      "We use a Beta distribution to create $P(p)$, the prior distribution, since it is the conjugate prior of the binomial distribution. Beta distributions takes two values, $\\alpha$ and $\\beta$, but we can assume a maximum likelihood prior of 0.5; this is achieved with $\\alpha = \\beta = 2$.\n",
      "\n",
      "*Prior distribution*"
     ]
    },
    {
     "cell_type": "code",
     "collapsed": false,
     "input": [
      "# Heads, tails\n",
      "n, h = 14, 10\n",
      "# alpha, beta\n",
      "alpha, beta = 2, 2\n",
      "\n",
      "# Define prior as beta distribution\n",
      "x = np.linspace(0,1,100)\n",
      "plt.plot(x, stats.beta.pdf(x, alpha, beta), label='prior')\n",
      "plt.title('Prior distribution (ML @ 0.5)')\n",
      "plt.axvline(0.5, color='r', linestyle='--')\n",
      "plt.legend(loc='best')"
     ],
     "language": "python",
     "metadata": {},
     "outputs": [
      {
       "metadata": {},
       "output_type": "pyout",
       "prompt_number": 23,
       "text": [
        "<matplotlib.legend.Legend at 0x7f2371163828>"
       ]
      },
      {
       "metadata": {},
       "output_type": "display_data",
       "png": "[encoded data removed]",
       "text": [
        "<matplotlib.figure.Figure at 0x7f2372170eb8>"
       ]
      }
     ],
     "prompt_number": 23
    },
    {
     "cell_type": "code",
     "collapsed": false,
     "input": [
      "# Get the posterior distribution from MCMC algorithm\n",
      "with pm.Model() as model: # Allows for model context\n",
      "    # Define prior\n",
      "    p = pm.Beta('p', alpha=alpha, beta=beta)\n",
      "    \n",
      "    # Likelihood; this binomial distribution informs the posterior\n",
      "    # Pass the posterior as a distribution\n",
      "    y = pm.Binomial('y', n=n, p=p, observed=h)\n",
      "    \n",
      "    # Run the MCMC sampling\n",
      "    start = pm.find_MAP() # MAP (max. a posteriori) estimator, \n",
      "    #                       initial state for MCMC sampling\n",
      "    step = pm.Metropolis() # Metropolis-Hastings sampling step\n",
      "    trace = pm.sample(1000, step, start, random_seed=111, \n",
      "                      progressbar=True)\n",
      "    "
     ],
     "language": "python",
     "metadata": {},
     "outputs": [
      {
       "output_type": "stream",
       "stream": "stdout",
       "text": [
        "Applied logodds-transform to p and added transformed p_logodds to model.\n",
        "\r"
       ]
      },
      {
       "output_type": "stream",
       "stream": "stdout",
       "text": [
        " [                  0%                  ] 2 of 1000 complete in 1.2 sec"
       ]
      },
      {
       "output_type": "stream",
       "stream": "stdout",
       "text": [
        "\r",
        " [-----------------100%-----------------] 1000 of 1000 complete in 1.3 sec"
       ]
      }
     ],
     "prompt_number": 12
    },
    {
     "cell_type": "markdown",
     "metadata": {},
     "source": [
      "*Posterior distribution*"
     ]
    },
    {
     "cell_type": "code",
     "collapsed": false,
     "input": [
      "plt.hist(trace['p'], 15, color='blue', edgecolor='white', \n",
      "         normed=True, label='post')\n",
      "plt.plot(x, stats.beta.pdf(x, alpha, beta), label='prior', \n",
      "         color='red', linewidth=2)\n",
      "plt.legend(loc='best')"
     ],
     "language": "python",
     "metadata": {},
     "outputs": [
      {
       "metadata": {},
       "output_type": "pyout",
       "prompt_number": 15,
       "text": [
        "<matplotlib.legend.Legend at 0x7f237ade5438>"
       ]
      },
      {
       "metadata": {},
       "output_type": "display_data",
       "png": "[encoded data removed]",
       "text": [
        "<matplotlib.figure.Figure at 0x7f237ae782b0>"
       ]
      }
     ],
     "prompt_number": 15
    },
    {
     "cell_type": "markdown",
     "metadata": {},
     "source": [
      "*Under the hood* -- MCMC sampling functioning"
     ]
    },
    {
     "cell_type": "code",
     "collapsed": false,
     "input": [
      "# Various posteriors with different num iterations\n",
      "niter, posts = [25, 500, 1000, 5000], []\n",
      "\n",
      "for nit in niter:\n",
      "    with pm.Model() as model: \n",
      "        p = pm.Beta('p', alpha=alpha, beta=beta) # prior\n",
      "        y = pm.Binomial('y', n=n, p=p, observed=h) # likelihood\n",
      "        start = pm.find_MAP() # MAP (max. a posteriori) estimator, \n",
      "        step = pm.Metropolis() # Metropolis-Hastings sampling step\n",
      "        trace = pm.sample(nit, step, start, random_seed=111, \n",
      "                          progressbar=True)\n",
      "        posts.append(trace['p'])\n",
      "\n",
      "for nit in range(4):\n",
      "    plt.subplot(2,2,nit+1)\n",
      "    plt.hist(posts[nit], bins=15, color='blue', edgecolor='white',\n",
      "             normed='True', label='post: %i' %niter[nit])\n",
      "    plt.plot(x, stats.beta.pdf(x, alpha, beta), label='prior', \n",
      "             color='red', linewidth=2)\n",
      "    plt.title('After %i samples' %niter[nit])\n",
      "    plt.legend(loc='best')"
     ],
     "language": "python",
     "metadata": {},
     "outputs": [
      {
       "output_type": "stream",
       "stream": "stdout",
       "text": [
        "Applied logodds-transform to p and added transformed p_logodds to model.\n",
        "\r"
       ]
      },
      {
       "output_type": "stream",
       "stream": "stdout",
       "text": [
        " [-----------------100%-----------------] 25 of 25 complete in 0.0 sec"
       ]
      },
      {
       "output_type": "stream",
       "stream": "stdout",
       "text": [
        "Applied logodds-transform to p and added transformed p_logodds to model.\n",
        "\r"
       ]
      },
      {
       "output_type": "stream",
       "stream": "stdout",
       "text": [
        " [-----------------100%-----------------] 500 of 500 complete in 0.1 sec"
       ]
      },
      {
       "output_type": "stream",
       "stream": "stdout",
       "text": [
        "Applied logodds-transform to p and added transformed p_logodds to model.\n",
        "\r"
       ]
      },
      {
       "output_type": "stream",
       "stream": "stdout",
       "text": [
        " [-----------------100%-----------------] 1000 of 1000 complete in 0.1 sec"
       ]
      },
      {
       "output_type": "stream",
       "stream": "stdout",
       "text": [
        "Applied logodds-transform to p and added transformed p_logodds to model.\n",
        "\r"
       ]
      },
      {
       "output_type": "stream",
       "stream": "stdout",
       "text": [
        " [-----------------91%--------------    ] 4570 of 5000 complete in 0.5 sec"
       ]
      },
      {
       "output_type": "stream",
       "stream": "stdout",
       "text": [
        "\r",
        " [-----------------100%-----------------] 5000 of 5000 complete in 0.6 sec"
       ]
      },
      {
       "metadata": {},
       "output_type": "display_data",
       "png": "[encoded data removed]",
       "text": [
        "<matplotlib.figure.Figure at 0x7f2369b209e8>"
       ]
      }
     ],
     "prompt_number": 28
    },
    {
     "cell_type": "markdown",
     "metadata": {},
     "source": [
      "Here we are changing the number of samples, but each sample is still being \"run to completion.\" If we could change the number of steps we would see that posterior distributions from models with fewer steps cluster closer to the prior distribution. The starting point is the maximum a posterior point (generally the smoothest peak) and a transition matrix is created with the likelihood (from the observed data). As we move with Markovian (Brownian) movement (no memory), several states are stable (\"recurrent\") and movement slows once those states are approached. \n",
      "\n",
      "We can think of a line from 0 to 1 where we start at 0.5. Our movement, left or right, is given probabilistically and is chained together. Initially, right might be 0.8 while left would be 0.2 (given the binomial distribution used to fit our initial observations).\n",
      "\n",
      "Closer to peak of the posterior, the probabilities of rightward and leftward movement are about equal, and if we had a threshold level $\\epsilon$ for how much net movement you'd need after (for example) 10 steps we'd see that we are below $\\epsilon$; therefore, we terminate that sample. Given enough samples, the transition matrix will yield an ideal posterior distribution, $\\pi$, which may is considered invariant. Note that even $\\pi$ will have values in transient states (not just recurrent states) unless the transition states are absorbing."
     ]
    },
    {
     "cell_type": "markdown",
     "metadata": {},
     "source": [
      "*Calculating the odds*\n",
      "\n",
      "For simplicity, we won't update the posterior in between tosses (although this is sort of un-Bayesian).\n",
      "\n",
      "We can multiply the posteriors element-wise and show that distribution to see the likelihood of getting two heads in a row."
     ]
    },
    {
     "cell_type": "code",
     "collapsed": false,
     "input": [
      "# We won't\n",
      "\n",
      "post_ = posts[-1] # Use the larger sample\n",
      "post_hh = [i**2 for i in posts[-1]]\n",
      "plt.hist(post_hh, bins=20, color='blue', edgecolor='blue', normed=True)\n",
      "prob = np.mean(post_hh)\n",
      "plt.axvline(prob, color='red', linestyle='--')\n",
      "print('Mean probability of two heads in a row: %.3f' %prob)"
     ],
     "language": "python",
     "metadata": {},
     "outputs": [
      {
       "output_type": "stream",
       "stream": "stdout",
       "text": [
        "Mean probability of two heads in a row: 0.458\n"
       ]
      },
      {
       "metadata": {},
       "output_type": "display_data",
       "png": "[encoded data removed]",
       "text": [
        "<matplotlib.figure.Figure at 0x7f234455dc50>"
       ]
      }
     ],
     "prompt_number": 34
    },
    {
     "cell_type": "markdown",
     "metadata": {},
     "source": [
      "It's true that these numbers (46% and 51%) are very close, and you wouldn't bet a lot on 51% odds. But the beauty of Bayesian statistics is that we aren't stuck with a single number -- we have a distribution. This means we can interpret our results more meaningfully. We have a prediction interval and a p-value that readily helps us determine how surprised we would be if we got a strange result (e.g.: 5 tails in a row). \n",
      "\n",
      "Using frequentist methods, we can calculate the likelihood (given 10H and 4T) that 5 T in a row would occur, but that can't tell us whether 5 T in a row is outside of what we might expect from chance.\n"
     ]
    },
    {
     "cell_type": "markdown",
     "metadata": {},
     "source": [
      "*While we're on the subject...*\n",
      "\n",
      "* _Confidence intervals_ tell you about how well you have determined the mean. Assume that the data really are randomly sampled from a Gaussian distribution. If you do this many times, and calculate a confidence interval of the mean from each sample, you'd expect about 95 % of those intervals to include the true value of the population mean. The key point is that the confidence interval tells you about the likely location of the true population parameter.\n",
      "\n",
      "* _Prediction intervals_ tell you where you can expect to see the next data point sampled. Assume that the data really are randomly sampled from a Gaussian distribution. Collect a sample of data and calculate a prediction interval. Then sample one more value from the population. If you do this many times, you'd expect that next value to lie within that prediction interval in 95% of the samples.The key point is that the prediction interval tells you about the distribution of values, not the uncertainty in determining the population mean.\n",
      "\n",
      "Which one sounds more contrived?"
     ]
    },
    {
     "cell_type": "markdown",
     "metadata": {},
     "source": [
      "## Sources\n",
      "\n",
      "* PyMC3 tutorial: https://pymc-devs.github.io/pymc3/getting_started/#a-motivating-example-linear-regression\n",
      "\n",
      "* Bayesian & frequentist approaches: http://www.behind-the-enemy-lines.com/2008/01/are-you-bayesian-or-frequentist-or.html; http://stats.stackexchange.com/questions/22/bayesian-and-frequentist-reasoning-in-plain-english\n",
      "\n",
      "* Confidence intervals: http://stats.stackexchange.com/questions/16493/difference-between-confidence-intervals-and-prediction-intervals; http://www.graphpad.com/support/faqid/1506/"
     ]
    }
   ],
   "metadata": {}
  }
 ]
}