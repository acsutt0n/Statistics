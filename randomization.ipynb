{
 "cells": [
  {
   "cell_type": "code",
   "execution_count": 1,
   "metadata": {
    "collapsed": false
   },
   "outputs": [],
   "source": [
    "# Import stuff\n",
    "%matplotlib inline\n",
    "import numpy as np\n",
    "import matplotlib.pyplot as plt\n",
    "import pymc as pm\n",
    "import scipy\n",
    "import scipy.stats as stats\n",
    "import random"
   ]
  },
  {
   "cell_type": "markdown",
   "metadata": {},
   "source": [
    "# p-values are unreliable\n",
    "\n",
    "## Motivating example: Lindley's paradox\n",
    "Imagine a city where 49,581 boys and 48,870 girls are born over a certain time period\n",
    "What are the questions we can ask?\n",
    "\n",
    "* What is the probability of a boy being born?\n",
    "* Is a boy more likely to be born than a girl?\n",
    "* What is the probability that the birth of a boy is more likely than the birth of a girl?\n",
    "* What is the range that will contain 95 % of likely observed values?\n",
    "* Should a prior hypothesis (for example, the probability of a boy being born is 0.5) be accepted of rejected?"
   ]
  },
  {
   "cell_type": "markdown",
   "metadata": {},
   "source": [
    "## Typical statistics approach\n",
    "Find $\\mu_0$ and $\\sigma_0$, the mean and std for the null hypothesis."
   ]
  },
  {
   "cell_type": "code",
   "execution_count": 2,
   "metadata": {
    "collapsed": false
   },
   "outputs": [
    {
     "name": "stdout",
     "output_type": "stream",
     "text": [
      "Null hypothesis: mu = 49225.5, sigma = 24612.75\n"
     ]
    }
   ],
   "source": [
    "boys, girls = 49581, 48870 # Actual number\n",
    "# Null hypothesis: boys = 0.5 * (boys+girls)\n",
    "mu = 0.5 * (boys + girls)\n",
    "sigma = (boys+girls)*0.5*(1-0.5) # This is actually sigma squared\n",
    "print('Null hypothesis: mu = %.1f, sigma = %.2f' %(mu, sigma))"
   ]
  },
  {
   "cell_type": "markdown",
   "metadata": {},
   "source": [
    "Using a normal approximation,\n",
    "$P(X>=x | \\mu = \\mu_0 ) $"
   ]
  },
  {
   "cell_type": "code",
   "execution_count": null,
   "metadata": {
    "collapsed": false
   },
   "outputs": [],
   "source": [
    "#$\\int_{49581}^{98451} 1/(\\sqrt{2 \\pi \\sigma^2) \n",
    "#                 \\exp{-((\\mu_{boys} - \\mu_0)/\\sigma)/2 $"
   ]
  },
  {
   "cell_type": "code",
   "execution_count": 3,
   "metadata": {
    "collapsed": false
   },
   "outputs": [
    {
     "name": "stdout",
     "output_type": "stream",
     "text": [
      "The raw probability of boys = mu_0: 0.01182\n",
      "We can make it 2-sided since it would be equally surprising\n",
      "if girls != mu, in this case P(boys, girls != mu) : 0.02365\n"
     ]
    }
   ],
   "source": [
    "# In code:\n",
    "def normal_approximation(u, mu, sigma):\n",
    "    return (1/(np.sqrt(2*np.pi*sigma))) * np.exp(-((u-mu)**2/(sigma))/2.)\n",
    "P_mu = sum([normal_approximation(x, mu, sigma) for x in range(49581, 98451)])\n",
    "P_mu = float(P_mu)\n",
    "print('The raw probability of boys = mu_0: %.5f' %P_mu)\n",
    "print('We can make it 2-sided since it would be equally surprising')\n",
    "print('if girls != mu, in this case P(boys, girls != mu) : %.5f' %(P_mu*2.))"
   ]
  },
  {
   "cell_type": "markdown",
   "metadata": {},
   "source": [
    "Since 0.0237 < 0.05 we reject the null hypothesis,\n",
    "meaning that the births of boys deviated significantly from 0.5.\n",
    "\n",
    "What else can we say about these numbers given this approach? What is likelihood or confidence our result is correct? \n",
    "\n",
    "In fact, the *only* conclusion we can come to from this approach is:\n",
    "* There is sufficient evidence to reject the hypothesis.\n",
    "But we know better. The better approach is a Bayesian approach.\n",
    "\n",
    "## We cannot (but are *tempted* to) say:\n",
    "* There is a 2.4% chance the null hypothesis is true (2.4% chance of a 'fluke').\n",
    "* There is a 2.4% chance the alternative hypothesis is false (false positive).\n",
    "* A p-value of 0.024 is stronger evidence that replicating the experiment would yield the same conclusion.\n",
    "* The p-value reflects the effect size.\n"
   ]
  },
  {
   "cell_type": "markdown",
   "metadata": {},
   "source": [
    "## In fact, the p-value is extremely fickle\n",
    "\n",
    "Imagine we have two datasets, both with means of 15 and stds of 2, such as below:"
   ]
  },
  {
   "cell_type": "code",
   "execution_count": 5,
   "metadata": {
    "collapsed": false
   },
   "outputs": [
    {
     "data": {
      "text/plain": [
       "<matplotlib.legend.Legend at 0x7f0804618e50>"
      ]
     },
     "execution_count": 5,
     "metadata": {},
     "output_type": "execute_result"
    },
    {
     "data": {
      "image/png": "[encoded data removed]",
      "text/plain": [
       "<matplotlib.figure.Figure at 0x7f0804618e90>"
      ]
     },
     "metadata": {},
     "output_type": "display_data"
    }
   ],
   "source": [
    "def gen_data(N=50, ngroups=2, mus=[15, 15.7], sigmas=[2,2]):\n",
    "    \"\"\"Generate some random data.\"\"\"\n",
    "    data = []\n",
    "    for n in range(ngroups):\n",
    "        data.append(np.random.normal(mus[n], sigmas[n], N))\n",
    "    return data\n",
    "\n",
    "# Two groups, group1 and group2\n",
    "A, B = gen_data(N=50, ngroups=2, mus=[15.,15.], sigmas=[2.,2.])\n",
    "# Show what these distributions look like\n",
    "plt.hist(A, bins=10, facecolor='b', edgecolor='none', \n",
    "         alpha=0.4, label='A')\n",
    "plt.hist(B, bins=10, facecolor='r', edgecolor='none', \n",
    "         alpha=0.4, label='B')\n",
    "plt.title('These distributions are the same')\n",
    "plt.legend()\n"
   ]
  },
  {
   "cell_type": "markdown",
   "metadata": {},
   "source": [
    "Despite these distributions looking almost identical, I bet we can find differences between them. Just to show what we might already know, I'll find some p-values that are pretty egregious."
   ]
  },
  {
   "cell_type": "code",
   "execution_count": 6,
   "metadata": {
    "collapsed": false
   },
   "outputs": [],
   "source": [
    "# This function demonstrates how fickle p-values can be.\n",
    "def fickle(groups=None, N=10, sims=4, ret_p=False, show=True):\n",
    "  \"\"\"\n",
    "  Two-group example of why p-value is unreliable.\n",
    "  \"\"\"\n",
    "  if groups is None:\n",
    "    A, B = gen_data(N*4, mus=[15,15]) # Dists must be moderately larger than samples\n",
    "  # Both samples are drawn from the same dist.\n",
    "  else:\n",
    "    A, B = groups\n",
    "  groups = []\n",
    "  for s in range(sims):\n",
    "    # Draw the samples\n",
    "    a = [A[i] for i in [int(x) for x in np.random.random(N)*len(A)]]\n",
    "    b = [B[i] for i in [int(x) for x in np.random.random(N)*len(B)]]\n",
    "    groups.append([a,b])\n",
    "  \n",
    "  # Get the p-values\n",
    "  p_vals = [stats.ttest_ind(t[0], t[1])[1] for t in groups]\n",
    "  \n",
    "  # If got more than 10 sims, find the largest, smallest, and 2 randos\n",
    "  if sims > 10:\n",
    "    keep = [p_vals.index(min(p_vals)), p_vals.index(max(p_vals)),\n",
    "            int(np.random.random()*len(p_vals)),\n",
    "            int(np.random.random()*len(p_vals))]\n",
    "    groups = [groups[i] for i in keep]\n",
    "    sims = len(keep)\n",
    "  else:\n",
    "    keep = [i for i in range(sims)]\n",
    "    groups = [groups[i] for i in keep]\n",
    "    sims = len(keep)\n",
    "\n",
    "  if show:\n",
    "    fig = plt.figure()\n",
    "    for s in range(sims):\n",
    "      ax = fig.add_subplot(1,sims, s+1)\n",
    "      ax.plot(np.random.random(N)*.25, groups[s][0], 'o', color='b', \n",
    "              alpha=0.5, )\n",
    "      ax.plot([i + 1 for i in np.random.random(N)*.25], groups[s][1], \n",
    "              'o', color='r', alpha=0.5, )\n",
    "      ax.plot([0,.5], [np.mean(groups[s][0]), np.mean(groups[s][0])],\n",
    "              linewidth=1.5, color='b', alpha=0.8)\n",
    "      ax.plot([.75,1.25], [np.mean(groups[s][1]), np.mean(groups[s][1])],\n",
    "              linewidth=1.5, color='r', alpha=0.8)\n",
    "      ax.set_title('Sim: %i, P=%.3f' %(s+1, p_vals[keep[s]]))\n",
    "      plt.xticks([0,1], ['A', 'B'])\n",
    "      if s != 0:\n",
    "        ax.yaxis.set_visible(False)\n",
    "    \n",
    "    plt.show()\n",
    "  if ret_p:\n",
    "    return p_vals\n",
    "  return"
   ]
  },
  {
   "cell_type": "code",
   "execution_count": 7,
   "metadata": {
    "collapsed": false
   },
   "outputs": [
    {
     "data": {
      "image/png": "[encoded data removed]",
      "text/plain": [
       "<matplotlib.figure.Figure at 0x7f0804689550>"
      ]
     },
     "metadata": {},
     "output_type": "display_data"
    }
   ],
   "source": [
    "# Now, let's actually do it.\n",
    "# A, B = gen_data(N=50, ngroups=2, mus=[15., 15.], sigmas=[2, 2])\n",
    "fickle(groups=[A,B], sims=20)\n",
    "# plt.hist(A, bins=5)"
   ]
  },
  {
   "cell_type": "markdown",
   "metadata": {},
   "source": [
    "Of course, increasing sample size decreases the chances of finding spurious differences..."
   ]
  },
  {
   "cell_type": "code",
   "execution_count": 8,
   "metadata": {
    "collapsed": false
   },
   "outputs": [],
   "source": [
    "# This function examines sample sizes.\n",
    "def sample_size(Ns=[10,30,64,100], sims=1000):\n",
    "  \"\"\"\n",
    "  Examine the effect of sample size on p value (as a distribution).\n",
    "  \"\"\"\n",
    "  dists = [fickle(N=i, sims=sims, ret_p=True, show=False) for i in Ns]\n",
    "  \n",
    "  # Plot the histograms of p values\n",
    "  fig = plt.figure()\n",
    "  for n in range(len(Ns)):\n",
    "    ax = fig.add_subplot(1,len(Ns), n+1)\n",
    "    logbins = np.logspace(-4, 0, 20)\n",
    "    cnts, bins, patches = ax.hist(dists[n], bins=logbins, color='gray',\n",
    "                                  edgecolor='white')\n",
    "    \n",
    "    # Figure out which bins are significant\n",
    "    # cnts, _ = np.histogram(dists[n], bins=np.logspace(-4,0,20))\n",
    "    bincents = 0.5 * (bins[:-1] + bins[1:])\n",
    "    cols = []\n",
    "    for b in bincents:\n",
    "      if b <= 0.05:\n",
    "        if b <= 0.01:\n",
    "          if b <= 0.001:\n",
    "            cols.append('red')\n",
    "          else:\n",
    "            cols.append('orange')\n",
    "        else:\n",
    "          cols.append('yellow')\n",
    "      else:\n",
    "        cols.append('gray')\n",
    "    \n",
    "    for c, p in zip(cols, patches):\n",
    "      plt.setp(p, 'facecolor', c)\n",
    "    \n",
    "    ax.plot([0.05, 0.05], [0,max(cnts)], '-', color='r')\n",
    "    ax.plot([0.01, 0.01], [0,max(cnts)], '-', color='gray')\n",
    "    ax.plot([0.001, 0.001], [0,max(cnts)], '-', color='black')\n",
    "    plt.gca().set_xscale('log')\n",
    "    ax.set_title('Sample size: %i' %Ns[n])\n",
    "    plt.xticks([0.0001, 0.001, 0.01, 0.1, 1],\n",
    "                  ['0.0001', '0.001', '0.01', '0.1', '1'])\n",
    "    ax.set_xlabel('P')\n",
    "    \n",
    "  plt.show()\n",
    "  return\n"
   ]
  },
  {
   "cell_type": "code",
   "execution_count": 10,
   "metadata": {
    "collapsed": false
   },
   "outputs": [
    {
     "data": {
      "image/png": "[encoded data removed]",
      "text/plain": [
       "<matplotlib.figure.Figure at 0x7f08044e03d0>"
      ]
     },
     "metadata": {},
     "output_type": "display_data"
    }
   ],
   "source": [
    "# Now test differences in sample sizes\n",
    "sample_size()"
   ]
  },
  {
   "cell_type": "markdown",
   "metadata": {},
   "source": [
    "P-values are inconsistent and unreliable, and the 'parametric' tests used to generate p-values are lazy and uninformative. There are alternatives..."
   ]
  },
  {
   "cell_type": "markdown",
   "metadata": {},
   "source": [
    "# Randomization, bootstrap and Monte Carlo\n",
    "\n",
    "*Randomization* is at the core of these non-parametric methods that can tell us much more than typical statistics. \n",
    "\n",
    "Randomization and bootstrapping allow sub-sampling and re-sampling of a dataset to determine the likelihood that observed effects are due to chance.\n",
    "\n",
    "This approach preserves the original distributions (there is no need to invoke normal distributions or any other kind of priors) and is easy to use and not computationally intensive.\n",
    "\n",
    "## Randomization: example\n",
    "\n",
    "Mandible lengths of male and female golden jackals were collected and analyzed to see if a difference exists between the genders."
   ]
  },
  {
   "cell_type": "code",
   "execution_count": 11,
   "metadata": {
    "collapsed": false
   },
   "outputs": [],
   "source": [
    "# Here is the raw data in cm\n",
    "def jackaldata():\n",
    "  data = [[120, 107, 110, 116, 114, 111, 113, 117, 114, 112], # males\n",
    "          [110, 111, 107, 108, 110, 105, 107, 106, 111, 111]] # females\n",
    "  return data\n",
    "\n",
    "# Show the data from two groups\n",
    "def show_data(groups, retax=False):\n",
    "    fig = plt.figure()\n",
    "    ax = fig.add_subplot(111)\n",
    "    ax.plot(np.random.random(len(groups[0]))*.25, \n",
    "             groups[0], 'o', color='b', alpha=0.5, )\n",
    "    ax.plot([i + 1 for i in np.random.random(len(groups[1]))*.25], \n",
    "            groups[1], 'o', color='r', alpha=0.5, )\n",
    "    ax.plot([-.125,.25], [np.mean(groups[0]), np.mean(groups[0])],\n",
    "          linewidth=1.5, color='b', alpha=0.8)\n",
    "    ax.plot([.875,1.25], [np.mean(groups[1]), np.mean(groups[1])],\n",
    "          linewidth=1.5, color='r', alpha=0.8)\n",
    "    ax.set_title('$\\mu_1 - \\mu_2$: %.2f' %(np.mean(groups[0])-np.mean(groups[1])))\n",
    "    ax.set_xticks([0,1], ['A', 'B'])\n",
    "    ax.set_xlim([-.25,1.5])\n",
    "    # ax.set_ylim([0,5])\n",
    "    if retax:\n",
    "        return ax\n",
    "    else:\n",
    "        plt.show(); return"
   ]
  },
  {
   "cell_type": "code",
   "execution_count": 12,
   "metadata": {
    "collapsed": false
   },
   "outputs": [
    {
     "data": {
      "image/png": "[encoded data removed]",
      "text/plain": [
       "<matplotlib.figure.Figure at 0x7f080466df10>"
      ]
     },
     "metadata": {},
     "output_type": "display_data"
    }
   ],
   "source": [
    "# Now let's look at our sample data\n",
    "a, b = jackaldata()\n",
    "show_data([a,b])"
   ]
  },
  {
   "cell_type": "markdown",
   "metadata": {},
   "source": [
    "So naively we suspect there may be a difference in mandible lengths. We could run a parametric t-test. These tests are often a good idea because they are computationally efficient and can help flag a dataset for further analysis. \n",
    "\n",
    "Given the small sample size, we might not expect an extremely low p-value, but if we were screening lots of data we might be inclined to pursue a p-value of 0.1 or less."
   ]
  },
  {
   "cell_type": "code",
   "execution_count": 13,
   "metadata": {
    "collapsed": false
   },
   "outputs": [
    {
     "name": "stdout",
     "output_type": "stream",
     "text": [
      "T-statistic: 3.4843, p-value: 0.0026\n"
     ]
    }
   ],
   "source": [
    "t, p = stats.ttest_ind(a,b)\n",
    "print('T-statistic: %.4f, p-value: %.4f' %(t, p))"
   ]
  },
  {
   "cell_type": "markdown",
   "metadata": {},
   "source": [
    "Our approach for randomization is to pool the data together and then re-assemble the two groups randomly. If there were un-even sample sizes (a has 12 members and b has 16 members), we could preserve or disregard these differences.\n",
    "\n",
    "We will try to generate many, many such \"realizations\" of the data. To make this efficient, we also need a test statistic that allows us to compare two groups. The most obvious choice here is difference of means."
   ]
  },
  {
   "cell_type": "code",
   "execution_count": 14,
   "metadata": {
    "collapsed": false
   },
   "outputs": [],
   "source": [
    "# Test statistic: difference of means\n",
    "def test_stat(groups):\n",
    "    return np.mean(groups[0])-np.mean(groups[1])\n",
    "\n",
    "# Randomnly combine group members\n",
    "def scramble(groups):\n",
    "    lenA, lenB = len(groups[0]), len(groups[1])\n",
    "    pooled = list(groups[0])+list(groups[1])\n",
    "    # Create the indexing lists for the new groups\n",
    "    scram = []\n",
    "    while len(scram) < len(pooled):\n",
    "        ix = int(np.random.random(1)*len(pooled)) # No replacement\n",
    "        if ix not in scram:\n",
    "            scram.append(ix)\n",
    "    randA = [pooled[scram[i]] for i in range(0,lenA)]\n",
    "    randB = [pooled[scram[i]] for i in range(lenA, len(pooled))]\n",
    "    #print(randB)\n",
    "    return [randA, randB]\n",
    "\n",
    "# Run the scrambling/randomization function a number of times,\n",
    "#   testing each of the new group pairs.\n",
    "def randomizeN(groups, N=1000, show=True, bench=None):\n",
    "    diffs = [] # Store the differences in means here\n",
    "    for i in range(N):\n",
    "        diffs.append(test_stat(scramble(groups)))\n",
    "    # We can plot what these results look like\n",
    "    fig = plt.figure()\n",
    "    ax = fig.add_subplot(111)\n",
    "    hist, _ = np.histogram(diffs, bins=5)\n",
    "    ax.hist(diffs, bins=50, facecolor='b', edgecolor='white')\n",
    "    ax.set_title('Randomized test statistic')\n",
    "    # We can also plot a benchmark, such as our observed difference\n",
    "    if bench is not None:\n",
    "        ax.axvline(bench, 0, max(hist), color='r', lw=1.5)\n",
    "        # Also calculate a \"p-value\"\n",
    "        sim_effect = len([i for i in diffs if i >= bench])\n",
    "        print('The observed effect was larger than %.2f %% of samples.'\n",
    "              %(1-float(sim_effect)/len(diffs)*100))\n",
    "    if show:\n",
    "        plt.show()\n",
    "    return"
   ]
  },
  {
   "cell_type": "code",
   "execution_count": 56,
   "metadata": {
    "collapsed": false
   },
   "outputs": [
    {
     "name": "stdout",
     "output_type": "stream",
     "text": [
      "The observed effect was larger than 0.70 % of samples.\n"
     ]
    },
    {
     "data": {
      "image/png": "[encoded data removed]",
      "text/plain": [
       "<matplotlib.figure.Figure at 0x7f8a74bdd350>"
      ]
     },
     "metadata": {},
     "output_type": "display_data"
    }
   ],
   "source": [
    "# Now let's run the actual iterations\n",
    "randomizeN([a,b], N=1000, show=True, bench=np.mean(a)-np.mean(b))"
   ]
  },
  {
   "cell_type": "markdown",
   "metadata": {},
   "source": [
    "Here we see that the observed effect is essentially the largest possible combination of samples. The value above is a valid, non-parametric reportable p-value substitute that is recognized by most journals.\n",
    "\n",
    "This method retains the original sample distribution -- and in fact uses the example same values. It is the most conservative possible statistical test as it requires no priors or constraints.\n",
    "\n",
    "** We also know that this result is robust, for the same reason we know the p-values calculated in the first example were not robust.**\n",
    "\n",
    "## Bootstrapping\n",
    "\n",
    "Strictly speaking, bootstrap sampling is extremely similar to randomization. Bootsrapping (in this sense) provides for replacement, so that if you have $A_i, i=1,2,...$ and wanted to create an artificial group $X_A$, you could have $X_A = {a_1, a_2, a_1, ...}$ -- that is, the members of $X_A$ need not be unique; once you use a value from $A$, you replace it back into the pool and can use it again. \n",
    "\n",
    "This allows for samples to grow much larger that their original sizes while altering the distribution in the most conservative way possible (compared to drawing from random distributions or distributions already fit to the data at hand).\n",
    "\n",
    "We can try the above example with bootstrap resampling to see if there is any difference -- we wouldn't expect much. Bootstrapping comes in handy later."
   ]
  },
  {
   "cell_type": "code",
   "execution_count": 15,
   "metadata": {
    "collapsed": false
   },
   "outputs": [],
   "source": [
    "# We'll use the same function as above, but with optional replacement\n",
    "def scramble(groups, replacement=True):\n",
    "    lenA, lenB = len(groups[0]), len(groups[1])\n",
    "    pooled = list(groups[0])+list(groups[1])\n",
    "    # Create the indexing lists for the new groups\n",
    "    scram = []\n",
    "    while len(scram) < len(pooled):\n",
    "        ix = int(np.random.random(1)*len(pooled))\n",
    "        if replacement: # Replacement okay\n",
    "            scram.append(ix)\n",
    "        else: # No replacement\n",
    "            if ix not in scram:\n",
    "                scram.append(ix)\n",
    "    randA = [pooled[scram[i]] for i in range(0,lenA)]\n",
    "    randB = [pooled[scram[i]] for i in range(lenA, len(pooled))]\n",
    "    #print(randB)\n",
    "    return [randA, randB]\n",
    "\n",
    "# Same as above, but with replacement\n",
    "def randomizeN(groups, N=1000, show=True, bench=None):\n",
    "    diffs = [] # Store the differences in means here\n",
    "    for i in range(N):\n",
    "        diffs.append(test_stat(scramble(groups, True)))\n",
    "    # We can plot what these results look like\n",
    "    fig = plt.figure()\n",
    "    ax = fig.add_subplot(111)\n",
    "    hist, _ = np.histogram(diffs, bins=5)\n",
    "    ax.hist(diffs, bins=50, facecolor='b', edgecolor='white')\n",
    "    ax.set_title('Randomized test statistic')\n",
    "    # We can also plot a benchmark, such as our observed difference\n",
    "    if bench is not None:\n",
    "        ax.axvline(bench, 0, max(hist), color='r', lw=1.5)\n",
    "        # Also calculate a \"p-value\"\n",
    "        sim_effect = len([i for i in diffs if i >= bench])\n",
    "        print('The observed effect was larger than %.2f %% of samples.'\n",
    "              %(1-float(sim_effect)/len(diffs)*100))\n",
    "    if show:\n",
    "        plt.show()\n",
    "    return"
   ]
  },
  {
   "cell_type": "code",
   "execution_count": 16,
   "metadata": {
    "collapsed": false
   },
   "outputs": [
    {
     "name": "stdout",
     "output_type": "stream",
     "text": [
      "The observed effect was larger than 0.90 % of samples.\n"
     ]
    },
    {
     "data": {
      "image/png": "[encoded data removed]",
      "text/plain": [
       "<matplotlib.figure.Figure at 0x7f08044d5c50>"
      ]
     },
     "metadata": {},
     "output_type": "display_data"
    }
   ],
   "source": [
    "# Now we'll test it\n",
    "a, b = jackaldata()\n",
    "randomizeN([a,b], N=1000, show=True, bench=np.mean(a)-np.mean(b))"
   ]
  },
  {
   "cell_type": "markdown",
   "metadata": {},
   "source": [
    "As expected, the result is basically the same."
   ]
  },
  {
   "cell_type": "markdown",
   "metadata": {},
   "source": [
    "## Monte Carlo simulation\n",
    "\n",
    "Monte Carlo basically means using randomness to examine whether the observed data fall outside the likely values generated by random processes. \n",
    "\n",
    "In the simplest cases, we can simply use random distributions to generate data and compare with the observed data. More complicated applications can use random data to influence a parameter or operation that acts on test data, such as with Markov chains.\n",
    "\n",
    "As a simple example, let's consider some data from Al's recent paper (Hamood & Marder, J Neurophys, 2015) where he notes that pyloric cycles per LG cycle cluster at integer values. His data look something like this:"
   ]
  },
  {
   "cell_type": "code",
   "execution_count": 17,
   "metadata": {
    "collapsed": false
   },
   "outputs": [
    {
     "data": {
      "text/plain": [
       "<matplotlib.text.Text at 0x7f08045af190>"
      ]
     },
     "execution_count": 17,
     "metadata": {},
     "output_type": "execute_result"
    },
    {
     "data": {
      "image/png": "[encoded data removed]",
      "text/plain": [
       "<matplotlib.figure.Figure at 0x7f080410b510>"
      ]
     },
     "metadata": {},
     "output_type": "display_data"
    }
   ],
   "source": [
    "# Fake data that look exactly like Al's real data\n",
    "fake = [6.1, 9.2, 9.9, 9.8, 9.8, 9.8, 9.9, 9.9, 9.9, 9.9,\n",
    "        10., 10., 10., 10., 10., 10., 10.1,10.1, 10.8, 10.9,\n",
    "         10.9, 10.9, 10.9, 10.9, 10.9, 10.9, 11.0, 11.0, 11.0, \n",
    "         11.0, 11.0, 11.0, 11.0, 11.2, 11.2, 11.8, 12., 12., \n",
    "         12., 12., 12., 12., 12., 12.2, 12.9, 13.9, 14., 14.]\n",
    "# Which look something like this\n",
    "plt.hist(fake, bins=40, facecolor='b', edgecolor='white', alpha=0.6)\n",
    "for i in [8,10,12,14]:\n",
    "    plt.axvline(i, 0, 20, color='r', alpha=0.4)\n",
    "plt.xlabel('Pyloric cycles per LG', fontsize=15)\n",
    "plt.ylabel('Number of LG cycles', fontsize=15)\n",
    "plt.title('At least, he wishes it could have been this pretty')"
   ]
  },
  {
   "cell_type": "markdown",
   "metadata": {},
   "source": [
    "We can show this wasn't a result of random integer clustering by generating noisy integer data for integers between 6 and 15."
   ]
  },
  {
   "cell_type": "code",
   "execution_count": 18,
   "metadata": {
    "collapsed": false
   },
   "outputs": [
    {
     "data": {
      "text/plain": [
       "<matplotlib.text.Text at 0x7f0803f7b690>"
      ]
     },
     "execution_count": 18,
     "metadata": {},
     "output_type": "execute_result"
    },
    {
     "data": {
      "image/png": "[encoded data removed]",
      "text/plain": [
       "<matplotlib.figure.Figure at 0x7f0803f94dd0>"
      ]
     },
     "metadata": {},
     "output_type": "display_data"
    }
   ],
   "source": [
    "# Generate some random data\n",
    "gaus_int = [int(u) for u in np.random.random(50)*max(fake) if u > 5.]\n",
    "gaus_int = [float(u)+np.random.random(1)*.2 for u in gaus_int]\n",
    "gaus_int = [i[0] for i in gaus_int]\n",
    "# And shoe the results\n",
    "plt.hist(gaus_int, bins=40, facecolor='b', edgecolor='white', alpha=0.6)\n",
    "for i in [8,10,12,14]:\n",
    "    plt.axvline(i, 0, 20, color='r', alpha=0.4)\n",
    "plt.xlabel('Pyloric cycles per LG', fontsize=15)\n",
    "plt.ylabel('Number of LG cycles', fontsize=15)\n",
    "plt.title('Clearly not the same')"
   ]
  },
  {
   "cell_type": "markdown",
   "metadata": {},
   "source": [
    "But with a noisy Poisson distribution..."
   ]
  },
  {
   "cell_type": "code",
   "execution_count": 21,
   "metadata": {
    "collapsed": false
   },
   "outputs": [
    {
     "data": {
      "text/plain": [
       "<matplotlib.text.Text at 0x7f08042159d0>"
      ]
     },
     "execution_count": 21,
     "metadata": {},
     "output_type": "execute_result"
    },
    {
     "data": {
      "image/png": "[encoded data removed]",
      "text/plain": [
       "<matplotlib.figure.Figure at 0x7f08040684d0>"
      ]
     },
     "metadata": {},
     "output_type": "display_data"
    }
   ],
   "source": [
    "# Make a noisy poisson distribution\n",
    "def noisy_poisson(distin, modadder=0.15):\n",
    "    # modadder controls how much non-integer-ness is added (max=1.)\n",
    "    distout = np.random.poisson(lam=np.mean(distin), size=len(distin))\n",
    "    distout = [int(i)+np.random.random(1)*modadder for i in distout]\n",
    "    return [i[0] for i in distout]\n",
    "\n",
    "# Generate and pPlot the distribution\n",
    "pois_int = noisy_poisson(fake, modadder=0.2)\n",
    "plt.hist(pois_int, bins=40, facecolor='b', edgecolor='white', alpha=0.6)\n",
    "for i in [8,10,12,14]:\n",
    "    plt.axvline(i, 0, 20, color='r', alpha=0.4)\n",
    "plt.xlabel('Pyloric cycles per LG', fontsize=15)\n",
    "plt.ylabel('Number of LG cycles', fontsize=15)\n",
    "plt.title('')"
   ]
  },
  {
   "cell_type": "markdown",
   "metadata": {},
   "source": [
    "We can probe the goodness of fit of this distribution by looking at a few test statistics across several iterations."
   ]
  },
  {
   "cell_type": "code",
   "execution_count": 22,
   "metadata": {
    "collapsed": false
   },
   "outputs": [
    {
     "name": "stdout",
     "output_type": "stream",
     "text": [
      "The observed effect was larger than -55.40 % of samples.\n"
     ]
    },
    {
     "data": {
      "image/png": "[encoded data removed]",
      "text/plain": [
       "<matplotlib.figure.Figure at 0x7f08044fead0>"
      ]
     },
     "metadata": {},
     "output_type": "display_data"
    }
   ],
   "source": [
    "# Simple histogram plotting function\n",
    "def plot_dist(dist, show=True, bench=None, title=None, nbins=50):\n",
    "    fig = plt.figure()\n",
    "    ax = fig.add_subplot(111)\n",
    "    hist, _ = np.histogram(dist, bins=5)\n",
    "    ax.hist(dist, bins=nbins, facecolor='b', edgecolor='white')\n",
    "    ax.set_title(title, fontsize=20)\n",
    "    # We can also plot a benchmark, such as our observed difference\n",
    "    if bench is not None:\n",
    "        ax.axvline(bench, 0, max(hist), color='r', lw=1.5)\n",
    "        # Also calculate a \"p-value\"\n",
    "        sim_effect = len([i for i in dist if i >= bench])\n",
    "        print('The observed effect was larger than %.2f %% of samples.'\n",
    "              %(1-float(sim_effect)/len(dist)*100))\n",
    "    if show:\n",
    "        plt.show()\n",
    "    return\n",
    "\n",
    "# First, create many sample distributions\n",
    "many_dists = [noisy_poisson(fake) for i in range(500)]\n",
    "# Show the means of these distributions\n",
    "means = [np.mean(u) for u in many_dists]\n",
    "plot_dist(means, show=True, bench=np.mean(fake), title='Means')"
   ]
  },
  {
   "cell_type": "code",
   "execution_count": 23,
   "metadata": {
    "collapsed": false
   },
   "outputs": [
    {
     "name": "stdout",
     "output_type": "stream",
     "text": [
      "The observed effect was larger than -64.80 % of samples.\n"
     ]
    },
    {
     "data": {
      "image/png": "[encoded data removed]",
      "text/plain": [
       "<matplotlib.figure.Figure at 0x7f0804408550>"
      ]
     },
     "metadata": {},
     "output_type": "display_data"
    }
   ],
   "source": [
    "# How about the integer-ness of the distribution?\n",
    "def sum_mods(dist): # This function sums the mods from each distribution\n",
    "    return sum([i%1. if i%1.<=0.5 else 1-(i%1.) for i in dist])\n",
    "\n",
    "# many_dists = \n",
    "mods = [sum_mods(u) for u in many_dists]\n",
    "plot_dist(mods, show=True, bench=sum_mods(fake), title='Integer-ness', nbins=50)"
   ]
  },
  {
   "cell_type": "code",
   "execution_count": 24,
   "metadata": {
    "collapsed": false
   },
   "outputs": [
    {
     "data": {
      "text/plain": [
       "<matplotlib.text.Text at 0x7f08041bc950>"
      ]
     },
     "execution_count": 24,
     "metadata": {},
     "output_type": "execute_result"
    },
    {
     "data": {
      "image/png": "[encoded data removed]",
      "text/plain": [
       "<matplotlib.figure.Figure at 0x7f0803ea9150>"
      ]
     },
     "metadata": {},
     "output_type": "display_data"
    }
   ],
   "source": [
    "# We can use this process to estimate the parameter modadder\n",
    "madders = np.random.random(1000)\n",
    "madders_dists = [noisy_poisson(fake, modadder=m) for m in madders]\n",
    "madder_mods = [sum_mods(u) for u in madders_dists]\n",
    "\n",
    "# And plot the relationship\n",
    "plt.scatter(madders, madder_mods, marker='o', color='b', \n",
    "            s=10, alpha=0.4)\n",
    "plt.axhline(sum_mods(fake), 0,max(madders), color='r')\n",
    "plt.xlabel('Mod adder parameter', fontsize=15)\n",
    "plt.ylabel('Sum mod', fontsize=15)\n"
   ]
  },
  {
   "cell_type": "code",
   "execution_count": 25,
   "metadata": {
    "collapsed": false
   },
   "outputs": [
    {
     "data": {
      "text/plain": [
       "<matplotlib.text.Text at 0x7f0803b74050>"
      ]
     },
     "execution_count": 25,
     "metadata": {},
     "output_type": "execute_result"
    },
    {
     "data": {
      "image/png": "[encoded data removed]",
      "text/plain": [
       "<matplotlib.figure.Figure at 0x7f0803ae8e50>"
      ]
     },
     "metadata": {},
     "output_type": "display_data"
    }
   ],
   "source": [
    "# For completeness, we could find exactly what this parameter should be\n",
    "# Use a simple linear regression\n",
    "def basic_linear_regression(x, y, replicates=False):\n",
    "  if replicates == False:\n",
    "    # sum(x^2) and sum(xy)\n",
    "    x_SS = sum(map(lambda a: a * a, x))\n",
    "    covariance_SS = sum([x[i] * y[i] for i in range(len(x))])\n",
    "    \n",
    "    b = (covariance_SS - (sum(x) * sum(y)) / len(x)) / (x_SS - \\\n",
    "                                          ((sum(x)**2) / len(x)))\n",
    "    a = (sum(y) - b*sum(x))/len(x)\n",
    "  \n",
    "  # replicates == True\n",
    "  else:\n",
    "    x_sum, y_sum = sum(map(lambda a: a * a, x)), sum(map(lambda a: a*a,y))\n",
    "    x_mean, y_mean = np.mean(x), np.mean(y)\n",
    "    x_SS = x_sum - sum(x)**2/len(x)\n",
    "    xy_sum = sum([x[i]*y[i] for i in range(len(x))])\n",
    "    xy_SS = xy_sum - sum(x) * sum(y) / len(x)\n",
    "    b = float(xy_SS) / x_SS\n",
    "    a = y_mean - b*x_mean\n",
    "  \n",
    "  return a, b\n",
    "\n",
    "# Get the fit, plot it, and find the value\n",
    "dat = np.array([madders, madder_mods])\n",
    "dat[dat[:,0].argsort()]\n",
    "# Since we know the fit is near the beginning, leave out past 0.7\n",
    "madders = [dat[0,i] for i in range(len(dat[0])) if dat[0,i] < 0.7]\n",
    "madder_mods = [dat[1,i] for i in range(len(dat[0])) if dat[0,i] < 0.7]\n",
    "a, b = basic_linear_regression(madders, madder_mods)\n",
    "x = np.linspace(min(madders), max(madders), 100)\n",
    "y = [i*b + a for i in x]\n",
    "argmin = [abs(i-sum_mods(fake)) for i in y]\n",
    "xval = x[argmin.index(min(argmin))]\n",
    "plt.scatter(madders, madder_mods, marker='o', color='skyblue', \n",
    "            s=10, alpha=0.2)\n",
    "plt.plot(x,y,lw=3, c='royalblue', alpha=0.8)\n",
    "plt.axhline(sum_mods(fake), 0,max(madders), color='r', ls='--')\n",
    "plt.axvline(xval, 0, max(madder_mods), color='r', ls='--')\n",
    "plt.xlabel('Mod adder parameter', fontsize=15)\n",
    "plt.ylabel('Sum mod', fontsize=15)\n",
    "plt.title('Mod Adder param: %.2f' %xval, fontsize=20)"
   ]
  },
  {
   "cell_type": "markdown",
   "metadata": {},
   "source": [
    "Knowing these parameters, one could then make distributions of data to test against the observed data. For Monte Carlo testing, we have to make sure the data are realistic enough to hold up to cursory scrutiny, while still making the fewest assumptions and constraints possible. \n",
    "\n",
    "We have a way of generating millions of data sets to compare against the observed data. Whenever the observed data is an outlier, it can mean our model is failing to capture something biology is doing, which should provide insight into *what* biology is doing. \n",
    "\n",
    "(As Tim is fond of saying, the goal of a model isn't to make predictions but to help us understand what is happening.)"
   ]
  },
  {
   "cell_type": "markdown",
   "metadata": {},
   "source": [
    "# Confidence intervals done right\n",
    "\n",
    "## Confidence intervals\n",
    "And what confidence intervals *do not* mean:\n",
    "* a confidence interval is *not* the interval within which there is a 95% chance that a true (population) parameter lies. \n",
    "* it does *not* mean that there is a 95% chance the interval covers the population parameters.\n",
    "* it does *not* mean that 95% of the sample data lie within the interval.\n",
    "* it is *not* a range of plausible values for the sample mean, and\n",
    "* it does *not* mean that replicated experiments have a 95% chance of falling within the interval.\n",
    "\n",
    "Actually the confidence interval is the percent of confidence intervals taken from different samples that will contain the true parameter. For example, if an experiment generates a 95% confidence interval of [a,b], this implies that 95% of the confidence intervals extrapolated from similar experiments (-- literally, data of this type --) will contain the true value in their confidence intervals. So if the experiment were repeated another 19 times, 19 of the 20 generated confidence intervals would contain the true value of the parameters. \n",
    "\n",
    "As an example, consider the jackals."
   ]
  },
  {
   "cell_type": "code",
   "execution_count": 26,
   "metadata": {
    "collapsed": false
   },
   "outputs": [
    {
     "name": "stdout",
     "output_type": "stream",
     "text": [
      "Mean: 113.400, 0.95 CI: 110.740 - 116.060\n",
      "Mean: 108.600, 0.95 CI: 106.976 - 110.224\n"
     ]
    },
    {
     "data": {
      "image/png": "[encoded data removed]",
      "text/plain": [
       "<matplotlib.figure.Figure at 0x7f080424b390>"
      ]
     },
     "metadata": {},
     "output_type": "display_data"
    }
   ],
   "source": [
    "a, b = jackaldata()\n",
    "\n",
    "# Show groups of data with or without confidence intervals\n",
    "def show_data(groups, conf=0.95, retax=False, title=None):\n",
    "    fig = plt.figure()\n",
    "    ax = fig.add_subplot(111)\n",
    "    for g in groups:\n",
    "        ix = groups.index(g)\n",
    "        col = np.random.random(3)\n",
    "        ax.plot(np.random.random(len(g))*.25+ix, \n",
    "                 g, 'o', color=col, alpha=0.5, )\n",
    "        ax.plot([-.125+ix,.25+ix], [np.mean(g), np.mean(g)],\n",
    "              linewidth=1.5, color=col, alpha=0.8)\n",
    "        if conf is not None:\n",
    "            low, upp = stats.t.interval(conf, len(g)-1, loc=np.mean(g),\n",
    "                                        scale=stats.sem(g))\n",
    "            ax.fill_between([ix,ix+.25], low, upp, color=col, alpha=0.3)\n",
    "            print('Mean: %.3f, %.2f CI: %.3f - %.3f'\n",
    "                  %(np.mean(g), conf, low, upp))\n",
    "    ax.set_title(title, fontsize=20)\n",
    "    ax.set_xticks(range(len(groups)), \n",
    "                  ['ABCDEFG'[i] for i in range(len(groups))])\n",
    "    ax.set_xlim([-.25,-.5+len(groups)])\n",
    "    # ax.set_ylim([0,5])\n",
    "    if retax:\n",
    "        return ax\n",
    "    else:\n",
    "        plt.show(); return\n",
    "\n",
    "show_data([a,b], conf=0.95, title='Jackal mandible lengths')"
   ]
  },
  {
   "cell_type": "markdown",
   "metadata": {},
   "source": [
    "But these CIs are calculated with the expectation that (at least) another 19 experiments will be run -- the necessary minimum to get a 5% CI resolution.\n",
    "\n",
    "By bootstrapping the data we can generate more accurate and *meaningful* CIs -- we know *how* they are generated and we understand *why*. Those points are important because you couldn't convince me why conventional CIs matter or that their estimation is logical."
   ]
  },
  {
   "cell_type": "code",
   "execution_count": 27,
   "metadata": {
    "collapsed": false
   },
   "outputs": [
    {
     "name": "stdout",
     "output_type": "stream",
     "text": [
      "Bootstrapped CIs:\n",
      "Mean: 113.400, 0.95 CI: 111.200 - 115.600\n",
      "Mean: 108.600, 0.95 CI: 107.300 - 109.900\n"
     ]
    },
    {
     "data": {
      "image/png": "[encoded data removed]",
      "text/plain": [
       "<matplotlib.figure.Figure at 0x7f0803f32e90>"
      ]
     },
     "metadata": {},
     "output_type": "display_data"
    }
   ],
   "source": [
    "# Here is the bootstrap function. Note: we can pass it any member function\n",
    "def bootstrap(data, num_samples=100000, statistic=np.mean, alpha=0.05):\n",
    "    \"\"\"Returns bootstrap estimate of 100.0*(1-alpha) CI for statistic.\"\"\"\n",
    "    data = np.array(data)\n",
    "    n = len(data)\n",
    "    # Generate num_samples random ints from 0-len(data)\n",
    "    idx = np.random.randint(0, n, (num_samples, n))\n",
    "    # Use these ints to populate num_samples bootstrapped arrays\n",
    "    samples = data[idx]\n",
    "    stat = np.sort(statistic(samples, 1))\n",
    "    # Sort them to return the samples falling in the CI\n",
    "    return (stat[int((alpha/2.0)*num_samples)], # Lower\n",
    "            stat[int((1-alpha/2.0)*num_samples)]) # Upper\n",
    "\n",
    "# This integrates the bootstrap code into the plotting function\n",
    "def show_data_boot(groups, conf=0.95, retax=False, title=None):\n",
    "    fig = plt.figure()\n",
    "    ax = fig.add_subplot(111)\n",
    "    for g in groups:\n",
    "        ix = groups.index(g)\n",
    "        col = np.random.random(3)\n",
    "        ax.plot(np.random.random(len(g))*.25+ix, \n",
    "                 g, 'o', color=col, alpha=0.5, markeredgecolor='none')\n",
    "        ax.plot([-.125+ix,.25+ix], [np.mean(g), np.mean(g)],\n",
    "              linewidth=1.5, color=col, alpha=0.8)\n",
    "        if conf is not None:\n",
    "            low, upp = bootstrap(g, statistic=np.mean, alpha=1-conf)\n",
    "            ax.fill_between([ix,ix+.25], low, upp, color=col, alpha=0.3)\n",
    "            print('Mean: %.3f, %.2f CI: %.3f - %.3f'\n",
    "                  %(np.mean(g), conf, low, upp))\n",
    "    ax.set_title(title, fontsize=20)\n",
    "    ax.set_xticks(range(len(groups)), \n",
    "                  ['ABCDEFG'[i] for i in range(len(groups))])\n",
    "    ax.set_xlim([-.25,-.5+len(groups)])\n",
    "    # ax.set_ylim([0,5])\n",
    "    if retax:\n",
    "        return ax\n",
    "    else:\n",
    "        plt.show(); return\n",
    "\n",
    "# Now we'll run this with the jackal data to generate CIs\n",
    "print('Bootstrapped CIs:')\n",
    "show_data_boot([a,b], title='Bootstrapped CIs')"
   ]
  },
  {
   "cell_type": "code",
   "execution_count": 171,
   "metadata": {
    "collapsed": false
   },
   "outputs": [
    {
     "name": "stdout",
     "output_type": "stream",
     "text": [
      "Conventional CIs:\n",
      "Mean: 113.400, 0.95 CI: 110.740 - 116.060\n",
      "Mean: 108.600, 0.95 CI: 106.976 - 110.224\n"
     ]
    },
    {
     "data": {
      "text/plain": [
       "<matplotlib.axes.AxesSubplot at 0x7f8a70249b10>"
      ]
     },
     "execution_count": 171,
     "metadata": {},
     "output_type": "execute_result"
    },
    {
     "data": {
      "image/png": "[encoded data removed]",
      "text/plain": [
       "<matplotlib.figure.Figure at 0x7f8a63c54050>"
      ]
     },
     "metadata": {},
     "output_type": "display_data"
    }
   ],
   "source": [
    "# To see the differences:\n",
    "print('Conventional CIs:')\n",
    "show_data([a,b], conf=0.95, title='Conventional CIs', \n",
    "          retax=True)\n"
   ]
  },
  {
   "cell_type": "markdown",
   "metadata": {},
   "source": [
    "These CIs might be identical or slightly different, but that doesn't matter. What matters is that they mean to us, intuitively and computationally. There's no black box."
   ]
  },
  {
   "cell_type": "markdown",
   "metadata": {},
   "source": [
    "## Jackknife confidence intervals\n",
    "\n",
    "Similar to bootstrapped CIs, he leave-one-out jackknife allows re-sampling of a finite data set to obtain CIs. It also serves to correct for bias since each computation allows one sample to be removed, thereby reducing variance in several cases. Here we show it again with the jackal data."
   ]
  },
  {
   "cell_type": "code",
   "execution_count": 188,
   "metadata": {
    "collapsed": false
   },
   "outputs": [
    {
     "name": "stdout",
     "output_type": "stream",
     "text": [
      "Jackknife CI:\n",
      "Mean: 113.400, 0.95 CI: 112.667 - 114.111\n",
      "Mean: 108.600, 0.95 CI: 107.571 - 109.000\n"
     ]
    },
    {
     "data": {
      "image/png": "[encoded data removed]",
      "text/plain": [
       "<matplotlib.figure.Figure at 0x7f8a63667590>"
      ]
     },
     "metadata": {},
     "output_type": "display_data"
    }
   ],
   "source": [
    "# Here's the jackknife function\n",
    "def jackknife(data, statistic=np.mean, alpha=0.05):\n",
    "    # We allow any reasonable function to be passed as the statistic\n",
    "    n = len(data)\n",
    "    sets = [[u for u in data if data[i] != u] for i in range(n)]\n",
    "    stat = np.sort([statistic(u) for u in sets])\n",
    "    # Sort them to return the samples falling in the CI\n",
    "    return (stat[int((alpha/2.0)*n)], # Lower\n",
    "            stat[int((1-alpha/2.0)*n)]) # Upper\n",
    "    \n",
    "# Plot the findings\n",
    "def show_data_jack(groups, conf=0.95, retax=False, title=None):\n",
    "    fig = plt.figure()\n",
    "    ax = fig.add_subplot(111)\n",
    "    for g in groups:\n",
    "        ix = groups.index(g)\n",
    "        col = np.random.random(3)\n",
    "        ax.plot(np.random.random(len(g))*.25+ix, \n",
    "                 g, 'o', color=col, alpha=0.5, markeredgecolor='none')\n",
    "        ax.plot([-.125+ix,.25+ix], [np.mean(g), np.mean(g)],\n",
    "              linewidth=1.5, color=col, alpha=0.8)\n",
    "        if conf is not None:\n",
    "            low, upp = jackknife(g, statistic=np.mean, alpha=1-conf)\n",
    "            ax.fill_between([ix,ix+.25], low, upp, color=col, alpha=0.3)\n",
    "            print('Mean: %.3f, %.2f CI: %.3f - %.3f'\n",
    "                  %(np.mean(g), conf, low, upp))\n",
    "    ax.set_title(title, fontsize=20)\n",
    "    ax.set_xticks(range(len(groups)), \n",
    "                  ['ABCDEFG'[i] for i in range(len(groups))])\n",
    "    ax.set_xlim([-.25,-.5+len(groups)])\n",
    "    # ax.set_ylim([0,5])\n",
    "    if retax:\n",
    "        return ax\n",
    "    else:\n",
    "        plt.show(); return\n",
    "\n",
    "# Now plot these things\n",
    "print('Jackknife CI:')\n",
    "show_data_jack([a,b],)"
   ]
  },
  {
   "cell_type": "markdown",
   "metadata": {},
   "source": [
    "These samples are awful candidates for jackknifing because their size is so small. With a larger sample the change in CI is not so large:"
   ]
  },
  {
   "cell_type": "code",
   "execution_count": 193,
   "metadata": {
    "collapsed": false
   },
   "outputs": [
    {
     "name": "stdout",
     "output_type": "stream",
     "text": [
      "Bootstrapped CIs:\n",
      "Mean: 113.050, 0.95 CI: 112.237 - 113.875\n",
      "Mean: 107.354, 0.95 CI: 106.954 - 107.754\n"
     ]
    },
    {
     "data": {
      "image/png": "[encoded data removed]",
      "text/plain": [
       "<matplotlib.figure.Figure at 0x7f8a74757990>"
      ]
     },
     "metadata": {},
     "output_type": "display_data"
    },
    {
     "name": "stdout",
     "output_type": "stream",
     "text": [
      "Jackknife CIs:\n",
      "Mean: 113.050, 0.95 CI: 112.389 - 113.642\n",
      "Mean: 107.354, 0.95 CI: 106.873 - 107.732\n"
     ]
    },
    {
     "data": {
      "image/png": "[encoded data removed]",
      "text/plain": [
       "<matplotlib.figure.Figure at 0x7f8a63441090>"
      ]
     },
     "metadata": {},
     "output_type": "display_data"
    }
   ],
   "source": [
    "# Generate fake jackal data\n",
    "xA = np.random.randint(min(a), max(a), size=80)\n",
    "xB = np.random.randint(min(b), max(b), size=65)\n",
    "print('Bootstrapped CIs:')\n",
    "show_data_boot([xA, xB], title='Bootstrapped')\n",
    "print('Jackknife CIs:')\n",
    "show_data_jack([xA, xB], title='Jackknifed')"
   ]
  },
  {
   "cell_type": "code",
   "execution_count": null,
   "metadata": {
    "collapsed": false
   },
   "outputs": [],
   "source": []
  },
  {
   "cell_type": "markdown",
   "metadata": {},
   "source": [
    "## Sources\n",
    "\n",
    "** Chan, C** *Data analysis with Python -- Practical computing for biologists.* http://people.duke.edu/~ccc14/pcfb/analysis.html\n",
    "\n",
    "**Manly, B** *Randomization, Bootstrap and Monte Carlo methods in Biology.*\n",
    "\n",
    "**Pilon, CD** *Probabilistic programming and Bayesian methods for Hackers.* http://nbviewer.jupyter.org/github/CamDavidsonPilon/Probabilistic-Programming-and-Bayesian-Methods-for-Hackers/tree/master/\n",
    "\n",
    "**Vanderplas, J** *Frequentism and Bayesianism: A Python-driven Primer.* http://jakevdp.github.io/blog/2014/06/14/frequentism-and-bayesianism-4-bayesian-in-python/\n",
    "(Also an associated paper on arXiv: http://arxiv.org/abs/1411.5018)"
   ]
  }
 ],
 "metadata": {
  "kernelspec": {
   "display_name": "Python 3",
   "language": "python",
   "name": "python3"
  },
  "language_info": {
   "codemirror_mode": {
    "name": "ipython",
    "version": 3
   },
   "file_extension": ".py",
   "mimetype": "text/x-python",
   "name": "python",
   "nbconvert_exporter": "python",
   "pygments_lexer": "ipython3",
   "version": "3.5.1"
  }
 },
 "nbformat": 4,
 "nbformat_minor": 0
}
